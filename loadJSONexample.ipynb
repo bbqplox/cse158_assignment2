{
 "cells": [
  {
   "cell_type": "code",
   "execution_count": 1,
   "metadata": {},
   "outputs": [],
   "source": [
    "import csv\n",
    "import string\n",
    "import re\n",
    "from sklearn import svm\n",
    "import sklearn\n",
    "import gzip\n",
    "import random\n",
    "import itertools\n",
    "from collections import defaultdict\n",
    "import numpy as np\n",
    "import datetime\n",
    "\n",
    "#from sklearn.metrics import jaccard_similarity_score\n",
    "#from scipy.sparse import csc_matrix\n",
    "\n",
    "import numpy as np\n",
    "import matplotlib.pyplot as plt\n",
    "from matplotlib.colors import ListedColormap\n",
    "from sklearn.model_selection import train_test_split\n",
    "from sklearn.preprocessing import StandardScaler\n",
    "from sklearn.datasets import make_moons, make_circles, make_classification\n",
    "from sklearn.neural_network import MLPClassifier\n",
    "from sklearn.neighbors import KNeighborsClassifier\n",
    "from sklearn.svm import SVC\n",
    "from sklearn.gaussian_process import GaussianProcessClassifier\n",
    "from sklearn.gaussian_process.kernels import RBF\n",
    "from sklearn.tree import DecisionTreeClassifier\n",
    "from sklearn.ensemble import RandomForestClassifier, AdaBoostClassifier\n",
    "from sklearn.naive_bayes import GaussianNB\n",
    "from sklearn.discriminant_analysis import QuadraticDiscriminantAnalysis\n",
    "from sklearn import svm\n",
    "from sklearn.linear_model import LogisticRegression\n",
    "\n",
    "import json"
   ]
  },
  {
   "cell_type": "code",
   "execution_count": 2,
   "metadata": {},
   "outputs": [],
   "source": [
    "matches = []\n",
    "count = 0\n",
    "with open('dotaMatch.out', 'r') as f:\n",
    "    for line in f:\n",
    "        matches.append(json.loads(line))\n",
    "# #     matches = [json.loads(line) for line in f]\n",
    "#         count = count + 1\n",
    "#         print(count)\n",
    "        "
   ]
  },
  {
   "cell_type": "code",
   "execution_count": 23,
   "metadata": {},
   "outputs": [
    {
     "data": {
      "text/plain": [
       "132778"
      ]
     },
     "execution_count": 23,
     "metadata": {},
     "output_type": "execute_result"
    }
   ],
   "source": [
    "# gets the hero that the player in the first slot played\n",
    "len(matches)"
   ]
  },
  {
   "cell_type": "code",
   "execution_count": 3,
   "metadata": {},
   "outputs": [],
   "source": [
    "#['match_id', 'duration', 'radiant_win', 'players']\n",
    "data = []\n",
    "heroNames = {}\n",
    "heroId = set()\n",
    "\n",
    "for m in matches:\n",
    "    if m['lobby_name'] == 'Ranked':\n",
    "        datum = {}\n",
    "        desiredKeys = ['match_id', 'duration', 'radiant_win']\n",
    "        types = [int, int, lambda x: x == True]\n",
    "        for i in range(len(desiredKeys)):\n",
    "            datum[desiredKeys[i]] = types[i](m[desiredKeys[i]])\n",
    "\n",
    "        datum['players'] = []\n",
    "        for i in range(len(m['players'])):\n",
    "            datum['players'].append(m['players'][i]['hero_id'])\n",
    "            heroId.add(m['players'][i]['hero_id'])\n",
    "            if 'hero_name' in m['players'][i]:\n",
    "                heroNames[m['players'][i]['hero_name']] = m['players'][i]['hero_id']\n",
    "        data.append(datum)\n",
    "    \n"
   ]
  },
  {
   "cell_type": "code",
   "execution_count": 24,
   "metadata": {},
   "outputs": [
    {
     "data": {
      "text/plain": [
       "67932"
      ]
     },
     "execution_count": 24,
     "metadata": {},
     "output_type": "execute_result"
    }
   ],
   "source": [
    "len(data)"
   ]
  },
  {
   "cell_type": "code",
   "execution_count": 4,
   "metadata": {},
   "outputs": [],
   "source": [
    "random.shuffle(data)\n",
    "train = data[:60000]\n",
    "val = data[60000:]"
   ]
  },
  {
   "cell_type": "code",
   "execution_count": null,
   "metadata": {},
   "outputs": [],
   "source": [
    "train[0]['players']"
   ]
  },
  {
   "cell_type": "code",
   "execution_count": null,
   "metadata": {},
   "outputs": [],
   "source": [
    "\n",
    "print(heroId)"
   ]
  },
  {
   "cell_type": "code",
   "execution_count": null,
   "metadata": {},
   "outputs": [],
   "source": [
    "heroNames"
   ]
  },
  {
   "cell_type": "code",
   "execution_count": 19,
   "metadata": {},
   "outputs": [
    {
     "name": "stdout",
     "output_type": "stream",
     "text": [
      "3594133657\n",
      "119\n"
     ]
    }
   ],
   "source": [
    "print(matches[203]['match_id'])\n",
    "print(matches[203]['players'][0]['hero_id'])\n",
    "#Pangolier 120? and 119\n",
    "#Dark Willow 114\n",
    "\n",
    "heroNames['Pangolier'] = 115\n",
    "heroNames['Dark Willow'] = 114"
   ]
  },
  {
   "cell_type": "code",
   "execution_count": 20,
   "metadata": {},
   "outputs": [],
   "source": [
    "idtohn = dict((v,k) for k,v in heroNames.items())"
   ]
  },
  {
   "cell_type": "code",
   "execution_count": null,
   "metadata": {},
   "outputs": [],
   "source": [
    "idtohn"
   ]
  },
  {
   "cell_type": "code",
   "execution_count": 14,
   "metadata": {},
   "outputs": [],
   "source": [
    "advantage = {}\n",
    "\n",
    "smd = open('smd.csv')\n",
    "\n",
    "for line in smd:\n",
    "    shit = {}\n",
    "    dudes = list(line.split(', '))\n",
    "    dudes[2] = float(dudes[2][:4])\n",
    "    \n",
    "    if dudes[0] not in advantage:\n",
    "        shit[dudes[1]] = dudes[2]\n",
    "        advantage[dudes[0]] = shit\n",
    "    else:\n",
    "        advantage[dudes[0]][dudes[1]] = dudes[2]\n",
    "    "
   ]
  },
  {
   "cell_type": "code",
   "execution_count": null,
   "metadata": {},
   "outputs": [],
   "source": [
    "advantage"
   ]
  },
  {
   "cell_type": "code",
   "execution_count": 6,
   "metadata": {},
   "outputs": [],
   "source": [
    "def accuracy(val_lbls, pred):\n",
    "    numright = 0\n",
    "    for i in range(len(val_lbls)):\n",
    "        if val_lbls[i] == pred[i]:\n",
    "            numright += 1\n",
    "    return float(numright) / len(val_lbls)\n",
    "\n",
    "def classify(tf, tl, vf, vl):\n",
    "    classifiers = [\n",
    "    #KNeighborsClassifier(3),\n",
    "    svm.LinearSVC(C=1),\n",
    "    #svm.LinearSVC(gamma=2, C=1),\n",
    "    #GaussianProcessClassifier(1.0 * RBF(1.0)),\n",
    "    DecisionTreeClassifier(max_depth=4),\n",
    "    RandomForestClassifier(max_depth=4, n_estimators=50, max_features=1),\n",
    "    MLPClassifier(alpha=1),\n",
    "    AdaBoostClassifier(),\n",
    "    GaussianNB(),\n",
    "    LogisticRegression()\n",
    "    #QuadraticDiscriminantAnalysis()\n",
    "    ]\n",
    "    \n",
    "    for clf in classifiers:\n",
    "        clf.fit(tf, tl)\n",
    "        val_predictions = clf.predict(vf)\n",
    "        print (accuracy(vl, val_predictions))"
   ]
  },
  {
   "cell_type": "code",
   "execution_count": 7,
   "metadata": {},
   "outputs": [],
   "source": [
    "maxid = 0\n",
    "\n",
    "def baseline(train, val):\n",
    "    train_feats = []\n",
    "    train_lbls = []\n",
    "    val_feats = []\n",
    "    val_lbls = []\n",
    "    \n",
    "    def feature(d):\n",
    "        feat = [0]*230\n",
    "        for p in d['players'][:5]:\n",
    "            if p == 119 or p == 120:\n",
    "                p = 115\n",
    "#             if p > maxid:\n",
    "            feat[p-1] = 1\n",
    "        for p in d['players'][5:]:\n",
    "            if p == 119 or p == 120:\n",
    "                p = 115\n",
    "#             if p > maxid:\n",
    "            feat[p + 115-1] = 1\n",
    "        return feat\n",
    "\n",
    "    for d in train:\n",
    "        train_feats.append(feature(d))\n",
    "        train_lbls.append(d['radiant_win'])\n",
    "    \n",
    "    for d in val:\n",
    "        val_feats.append(feature(d))\n",
    "        val_lbls.append(d['radiant_win'])\n",
    "        \n",
    "    classify(train_feats, train_lbls, val_feats, val_lbls)\n",
    "    \n",
    "\n"
   ]
  },
  {
   "cell_type": "code",
   "execution_count": 8,
   "metadata": {},
   "outputs": [
    {
     "name": "stdout",
     "output_type": "stream",
     "text": [
      "0.5787947554210792\n",
      "0.5358043368633384\n",
      "0.5273575390821987\n",
      "0.5724911749873929\n",
      "0.5587493696419567\n",
      "0.5689611699445285\n",
      "0.578416540595058\n"
     ]
    }
   ],
   "source": [
    "baseline(train, val)\n"
   ]
  },
  {
   "cell_type": "code",
   "execution_count": 21,
   "metadata": {},
   "outputs": [],
   "source": [
    "def advbaseline(train, val):\n",
    "    train_feats = []\n",
    "    train_lbls = []\n",
    "    val_feats = []\n",
    "    val_lbls = []\n",
    "    \n",
    "    def feature(d):\n",
    "        feat = [0]*240\n",
    "        \n",
    "        #adv1 = 0\n",
    "        #adv2 = 0\n",
    "        \n",
    "        for p in d['players'][:5]:\n",
    "            if p == 119 or p == 120:\n",
    "                p = 115\n",
    "            feat[p-1] = 1\n",
    "        for p in d['players'][5:]:\n",
    "            if p == 119 or p == 120:\n",
    "                p = 115\n",
    "            feat[p + 115 -1] = 1\n",
    "            \n",
    "        ind = 230\n",
    "        for p1 in d['players'][:5]:\n",
    "            for p2 in d['players'][5:]:\n",
    "                if p1 == 119 or p1 == 120:\n",
    "                    p1 = 115\n",
    "                    \n",
    "                if p2 == 119 or p2 == 120:\n",
    "                    p2 = 115\n",
    "                    \n",
    "                if p1 == p2:\n",
    "                    continue\n",
    "                    \n",
    "                #print(idtohn[p1], idtohn[p2], d['match_id'])\n",
    "                \n",
    "                feat[ind] = feat[ind] + advantage[idtohn[p1]][idtohn[p2]]\n",
    "            ind = ind + 1\n",
    "            \n",
    "                \n",
    "        for p1 in d['players'][5:]:\n",
    "            for p2 in d['players'][:5]:\n",
    "                if p1 == 119 or p1 == 120:\n",
    "                    p1 = 115\n",
    "                    \n",
    "                if p2 == 119 or p2 == 120:\n",
    "                    p2 = 115\n",
    "                    \n",
    "                if p1 == p2:\n",
    "                    continue\n",
    "                \n",
    "                #adv2 = adv2 + advantage[idtohn[p1]][idtohn[p2]]\n",
    "                feat[ind] = feat[ind] + advantage[idtohn[p1]][idtohn[p2]]\n",
    "            ind = ind + 1\n",
    "\n",
    "        return feat\n",
    "\n",
    "    for d in train:\n",
    "        train_feats.append(feature(d))\n",
    "        train_lbls.append(d['radiant_win'])\n",
    "    \n",
    "    for d in val:\n",
    "        val_feats.append(feature(d))\n",
    "        val_lbls.append(d['radiant_win'])\n",
    "    \n",
    "    #print(train_feats)\n",
    "        \n",
    "    classify(train_feats, train_lbls, val_feats, val_lbls)"
   ]
  },
  {
   "cell_type": "code",
   "execution_count": 22,
   "metadata": {},
   "outputs": [
    {
     "name": "stdout",
     "output_type": "stream",
     "text": [
      "0.5992183560262229\n",
      "0.5347957639939486\n",
      "0.5273575390821987\n",
      "0.5939233484619264\n",
      "0.5611447302067575\n",
      "0.5694654563792234\n",
      "0.597327281896117\n"
     ]
    }
   ],
   "source": [
    "# for evert character in team look at advantage(sum it) over other player, then sum that \n",
    "advbaseline(train, val)"
   ]
  },
  {
   "cell_type": "code",
   "execution_count": null,
   "metadata": {},
   "outputs": [],
   "source": [
    "advantage['Dark Willow']"
   ]
  },
  {
   "cell_type": "code",
   "execution_count": null,
   "metadata": {},
   "outputs": [],
   "source": [
    "advantage['Pangolier']"
   ]
  },
  {
   "cell_type": "code",
   "execution_count": null,
   "metadata": {},
   "outputs": [],
   "source": []
  },
  {
   "cell_type": "code",
   "execution_count": null,
   "metadata": {},
   "outputs": [],
   "source": []
  },
  {
   "cell_type": "code",
   "execution_count": null,
   "metadata": {},
   "outputs": [],
   "source": []
  },
  {
   "cell_type": "code",
   "execution_count": null,
   "metadata": {},
   "outputs": [],
   "source": []
  }
 ],
 "metadata": {
  "kernelspec": {
   "display_name": "Python 3",
   "language": "python",
   "name": "python3"
  },
  "language_info": {
   "codemirror_mode": {
    "name": "ipython",
    "version": 3
   },
   "file_extension": ".py",
   "mimetype": "text/x-python",
   "name": "python",
   "nbconvert_exporter": "python",
   "pygments_lexer": "ipython3",
   "version": "3.6.0"
  }
 },
 "nbformat": 4,
 "nbformat_minor": 2
}

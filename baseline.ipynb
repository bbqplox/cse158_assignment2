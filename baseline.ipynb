{
 "cells": [
  {
   "cell_type": "code",
   "execution_count": 67,
   "metadata": {
    "collapsed": true
   },
   "outputs": [],
   "source": [
    "import csv\n",
    "import string\n",
    "import re\n",
    "from sklearn import svm\n",
    "import sklearn\n",
    "import gzip\n",
    "import random\n",
    "import itertools\n",
    "from collections import defaultdict\n",
    "import numpy as np\n",
    "import datetime\n",
    "\n",
    "#from sklearn.metrics import jaccard_similarity_score\n",
    "#from scipy.sparse import csc_matrix\n",
    "\n",
    "import numpy as np\n",
    "import matplotlib.pyplot as plt\n",
    "from matplotlib.colors import ListedColormap\n",
    "from sklearn.model_selection import train_test_split\n",
    "from sklearn.preprocessing import StandardScaler\n",
    "from sklearn.datasets import make_moons, make_circles, make_classification\n",
    "from sklearn.neural_network import MLPClassifier\n",
    "from sklearn.neighbors import KNeighborsClassifier\n",
    "from sklearn.svm import SVC\n",
    "from sklearn.gaussian_process import GaussianProcessClassifier\n",
    "from sklearn.gaussian_process.kernels import RBF\n",
    "from sklearn.tree import DecisionTreeClassifier\n",
    "from sklearn.ensemble import RandomForestClassifier, AdaBoostClassifier\n",
    "from sklearn.naive_bayes import GaussianNB\n",
    "from sklearn.discriminant_analysis import QuadraticDiscriminantAnalysis\n",
    "from sklearn import svm"
   ]
  },
  {
   "cell_type": "code",
   "execution_count": 68,
   "metadata": {},
   "outputs": [
    {
     "data": {
      "text/plain": [
       "\"\\nwith open('hero_names.csv', newline='') as csvfile:\\n    spamreader = csv.reader(csvfile, delimiter=',')\\n    for row in spamreader:\\n        heroNames.append([row[1], row[2]])\\n\""
      ]
     },
     "execution_count": 68,
     "metadata": {},
     "output_type": "execute_result"
    }
   ],
   "source": [
    "#players = []\n",
    "#heroNames = []\n",
    "#matches = []\n",
    "\n",
    "data = []\n",
    "\n",
    "\n",
    "with open('match.csv') as csvfile:\n",
    "    keys = list(csvfile.readline().split(',')) #note: last element has a newline\n",
    "    spamreader = csv.reader(csvfile, delimiter=',')\n",
    "    desiredKeys = ['match_id', 'duration', 'radiant_win']\n",
    "    types = [int, int, lambda x: x == \"True\"]\n",
    "    desiredKeysIndices = [keys.index(x) for x in desiredKeys]\n",
    "    for row in spamreader:\n",
    "        datum = {}\n",
    "        for i in range(len(desiredKeys)):\n",
    "            datum[desiredKeys[i]] = types[i](row[desiredKeysIndices[i]])\n",
    "        datum['players'] = []\n",
    "        data.append(datum)\n",
    "\n",
    "\n",
    "with open('players.csv') as csvfile:\n",
    "    keys = list(csvfile.readline().split(','))\n",
    "    spamreader = csv.reader(csvfile, delimiter=',')\n",
    "    desiredKeys = ['hero_id'] # just heroId for now\n",
    "    types = [int]\n",
    "    desiredKeysIndices = [keys.index(x) for x in desiredKeys]\n",
    "    for row in spamreader:\n",
    "        datum = {}\n",
    "        for i in range(len(desiredKeys)):\n",
    "            datum[desiredKeys[i]] = types[i](row[desiredKeysIndices[i]])\n",
    "        data[int(row[0])]['players'].append(datum)\n",
    "        \n",
    "\n",
    "\n",
    "\"\"\"\n",
    "with open('hero_names.csv', newline='') as csvfile:\n",
    "    spamreader = csv.reader(csvfile, delimiter=',')\n",
    "    for row in spamreader:\n",
    "        heroNames.append([row[1], row[2]])\n",
    "\"\"\""
   ]
  },
  {
   "cell_type": "code",
   "execution_count": 69,
   "metadata": {
    "collapsed": true
   },
   "outputs": [],
   "source": [
    "random.shuffle(data)\n",
    "train = data[:40000]\n",
    "val = data[40000:]"
   ]
  },
  {
   "cell_type": "code",
   "execution_count": 70,
   "metadata": {},
   "outputs": [],
   "source": [
    "def accuracy(val_lbls, pred):\n",
    "    numright = 0\n",
    "    for i in range(len(val_lbls)):\n",
    "        if val_lbls[i] == pred[i]:\n",
    "            numright += 1\n",
    "    return float(numright) / len(val_lbls)\n",
    "\n",
    "def classify(tf, tl, vf, vl):\n",
    "    classifiers = [\n",
    "    #KNeighborsClassifier(3),\n",
    "    svm.LinearSVC(C=1),\n",
    "    #svm.LinearSVC(gamma=2, C=1),\n",
    "    #GaussianProcessClassifier(1.0 * RBF(1.0)),\n",
    "    DecisionTreeClassifier(max_depth=4),\n",
    "    RandomForestClassifier(max_depth=4, n_estimators=50, max_features=1),\n",
    "    MLPClassifier(alpha=1),\n",
    "    AdaBoostClassifier(),\n",
    "    GaussianNB(),\n",
    "    #QuadraticDiscriminantAnalysis()\n",
    "    ]\n",
    "    \n",
    "    for clf in classifiers:\n",
    "        clf.fit(tf, tl)\n",
    "        val_predictions = clf.predict(vf)\n",
    "        print accuracy(vl, val_predictions)\n",
    "\n",
    "\n",
    "def baseline(train, val):\n",
    "    train_feats = []\n",
    "    train_lbls = []\n",
    "    val_feats = []\n",
    "    val_lbls = []\n",
    "    \n",
    "    def feature(d):\n",
    "        feat = [0]*226\n",
    "        for p in d['players'][:5]:\n",
    "            feat[p['hero_id']] = 1\n",
    "        for p in d['players'][5:]:\n",
    "            feat[p['hero_id'] + 113] = 1\n",
    "        return feat\n",
    "\n",
    "    for d in train:\n",
    "        train_feats.append(feature(d))\n",
    "        train_lbls.append(d['radiant_win'])\n",
    "    \n",
    "    for d in val:\n",
    "        val_feats.append(feature(d))\n",
    "        val_lbls.append(d['radiant_win'])\n",
    "    \n",
    "    classify(train_feats, train_lbls, val_feats, val_lbls)"
   ]
  },
  {
   "cell_type": "code",
   "execution_count": 71,
   "metadata": {},
   "outputs": [
    {
     "name": "stdout",
     "output_type": "stream",
     "text": [
      "0.5962\n",
      "0.5222\n",
      "0.517\n",
      "0.6006\n",
      "0.5837\n",
      "0.5825\n"
     ]
    }
   ],
   "source": [
    "baseline(train, val)"
   ]
  },
  {
   "cell_type": "code",
   "execution_count": null,
   "metadata": {
    "collapsed": true
   },
   "outputs": [],
   "source": []
  }
 ],
 "metadata": {
  "kernelspec": {
   "display_name": "Python 2",
   "language": "python",
   "name": "python2"
  },
  "language_info": {
   "codemirror_mode": {
    "name": "ipython",
    "version": 2
   },
   "file_extension": ".py",
   "mimetype": "text/x-python",
   "name": "python",
   "nbconvert_exporter": "python",
   "pygments_lexer": "ipython2",
   "version": "2.7.13"
  }
 },
 "nbformat": 4,
 "nbformat_minor": 2
}
